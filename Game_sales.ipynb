{
 "cells": [
  {
   "cell_type": "markdown",
   "id": "ed76f768",
   "metadata": {},
   "source": [
    "I want to be an Vietnam billionaire games-selling mogul. To do this, I have to answer some questions:"
   ]
  },
  {
   "cell_type": "markdown",
   "id": "9d3b281a",
   "metadata": {},
   "source": [
    "1. What type of games would I sell?\n",
    "2. Where would I sell?\n",
    "3. Which platform's games would I sell?"
   ]
  },
  {
   "cell_type": "markdown",
   "id": "93458a0e",
   "metadata": {},
   "source": [
    "In this code, I will analyse the data set from kaggle to answer these questions. "
   ]
  },
  {
   "cell_type": "markdown",
   "id": "524ecc61",
   "metadata": {},
   "source": [
    "Dataset is from Kaggle: https://www.kaggle.com/gregorut/videogamesales"
   ]
  },
  {
   "cell_type": "markdown",
   "id": "8b205282",
   "metadata": {},
   "source": [
    "# TABLE OF CONTENT"
   ]
  },
  {
   "cell_type": "markdown",
   "id": "ec512a21",
   "metadata": {},
   "source": [
    "      I.   Inspect the dataset\n",
    "      II.  Clening data  \n",
    "      III. Analysing global sales by genre\n",
    "      IV.  Analysing global sales by continents\n",
    "      V.   Analysing NA sales by genre, platform\n",
    "      VI.  Conclusion"
   ]
  },
  {
   "cell_type": "code",
   "execution_count": 1,
   "id": "b1060594",
   "metadata": {},
   "outputs": [],
   "source": [
    "import pandas as pd\n",
    "import matplotlib.pyplot as plt"
   ]
  },
  {
   "cell_type": "code",
   "execution_count": 2,
   "id": "2edd0468",
   "metadata": {},
   "outputs": [],
   "source": [
    "game_revenue = pd.read_csv(\"C:\\\\Users\\\\admin\\\\Desktop\\\\Game_revenue\\\\vgsales.csv\")"
   ]
  },
  {
   "cell_type": "markdown",
   "id": "988895eb",
   "metadata": {},
   "source": [
    "## I. Inspect the dataset"
   ]
  },
  {
   "cell_type": "code",
   "execution_count": 3,
   "id": "f2aa031b",
   "metadata": {},
   "outputs": [
    {
     "name": "stdout",
     "output_type": "stream",
     "text": [
      "   Rank                      Name Platform    Year         Genre Publisher  \\\n",
      "0     1                Wii Sports      Wii  2006.0        Sports  Nintendo   \n",
      "1     2         Super Mario Bros.      NES  1985.0      Platform  Nintendo   \n",
      "2     3            Mario Kart Wii      Wii  2008.0        Racing  Nintendo   \n",
      "3     4         Wii Sports Resort      Wii  2009.0        Sports  Nintendo   \n",
      "4     5  Pokemon Red/Pokemon Blue       GB  1996.0  Role-Playing  Nintendo   \n",
      "\n",
      "   NA_Sales  EU_Sales  JP_Sales  Other_Sales  Global_Sales  \n",
      "0     41.49     29.02      3.77         8.46         82.74  \n",
      "1     29.08      3.58      6.81         0.77         40.24  \n",
      "2     15.85     12.88      3.79         3.31         35.82  \n",
      "3     15.75     11.01      3.28         2.96         33.00  \n",
      "4     11.27      8.89     10.22         1.00         31.37  \n"
     ]
    }
   ],
   "source": [
    "print(game_revenue.head())"
   ]
  },
  {
   "cell_type": "markdown",
   "id": "3fae95d0",
   "metadata": {},
   "source": [
    "# II. Cleaning data\n",
    "1. Check null value"
   ]
  },
  {
   "cell_type": "code",
   "execution_count": 4,
   "id": "a5ab6fd7",
   "metadata": {},
   "outputs": [
    {
     "data": {
      "text/plain": [
       "Rank              0\n",
       "Name              0\n",
       "Platform          0\n",
       "Year            271\n",
       "Genre             0\n",
       "Publisher        58\n",
       "NA_Sales          0\n",
       "EU_Sales          0\n",
       "JP_Sales          0\n",
       "Other_Sales       0\n",
       "Global_Sales      0\n",
       "dtype: int64"
      ]
     },
     "execution_count": 4,
     "metadata": {},
     "output_type": "execute_result"
    }
   ],
   "source": [
    "game_revenue.isna().sum()"
   ]
  },
  {
   "cell_type": "markdown",
   "id": "d701f041",
   "metadata": {},
   "source": [
    "2. Remove missing value"
   ]
  },
  {
   "cell_type": "code",
   "execution_count": 5,
   "id": "084d5aad",
   "metadata": {},
   "outputs": [
    {
     "data": {
      "text/plain": [
       "Rank            0\n",
       "Name            0\n",
       "Platform        0\n",
       "Year            0\n",
       "Genre           0\n",
       "Publisher       0\n",
       "NA_Sales        0\n",
       "EU_Sales        0\n",
       "JP_Sales        0\n",
       "Other_Sales     0\n",
       "Global_Sales    0\n",
       "dtype: int64"
      ]
     },
     "execution_count": 5,
     "metadata": {},
     "output_type": "execute_result"
    }
   ],
   "source": [
    "game_revenue = game_revenue.dropna()\n",
    "game_revenue.isna().sum()"
   ]
  },
  {
   "cell_type": "markdown",
   "id": "8de062cf",
   "metadata": {},
   "source": [
    "Summary about the dataset"
   ]
  },
  {
   "cell_type": "code",
   "execution_count": 6,
   "id": "962d5b34",
   "metadata": {},
   "outputs": [
    {
     "name": "stdout",
     "output_type": "stream",
     "text": [
      "<class 'pandas.core.frame.DataFrame'>\n",
      "Int64Index: 16291 entries, 0 to 16597\n",
      "Data columns (total 11 columns):\n",
      " #   Column        Non-Null Count  Dtype  \n",
      "---  ------        --------------  -----  \n",
      " 0   Rank          16291 non-null  int64  \n",
      " 1   Name          16291 non-null  object \n",
      " 2   Platform      16291 non-null  object \n",
      " 3   Year          16291 non-null  float64\n",
      " 4   Genre         16291 non-null  object \n",
      " 5   Publisher     16291 non-null  object \n",
      " 6   NA_Sales      16291 non-null  float64\n",
      " 7   EU_Sales      16291 non-null  float64\n",
      " 8   JP_Sales      16291 non-null  float64\n",
      " 9   Other_Sales   16291 non-null  float64\n",
      " 10  Global_Sales  16291 non-null  float64\n",
      "dtypes: float64(6), int64(1), object(4)\n",
      "memory usage: 1.5+ MB\n"
     ]
    }
   ],
   "source": [
    "game_revenue.info()"
   ]
  },
  {
   "cell_type": "markdown",
   "id": "fc733080",
   "metadata": {},
   "source": [
    "## III. Analysing global sales by genre"
   ]
  },
  {
   "cell_type": "code",
   "execution_count": 7,
   "id": "7aeaa3ce",
   "metadata": {},
   "outputs": [
    {
     "name": "stdout",
     "output_type": "stream",
     "text": [
      "Genre\n",
      "Action          1722.84\n",
      "Adventure        234.59\n",
      "Fighting         444.05\n",
      "Misc             789.87\n",
      "Platform         829.13\n",
      "Puzzle           242.21\n",
      "Racing           726.76\n",
      "Role-Playing     923.83\n",
      "Shooter         1026.20\n",
      "Simulation       389.98\n",
      "Sports          1309.24\n",
      "Strategy         173.27\n",
      "Name: Global_Sales, dtype: float64\n"
     ]
    }
   ],
   "source": [
    "global_sales_by_genre = game_revenue.groupby(\"Genre\")[\"Global_Sales\"].agg(sum)\n",
    "print(global_sales_by_genre)"
   ]
  },
  {
   "cell_type": "code",
   "execution_count": 8,
   "id": "c419df8b",
   "metadata": {},
   "outputs": [
    {
     "data": {
      "image/png": "[encoded data removed]",
      "text/plain": [
       "<Figure size 432x288 with 1 Axes>"
      ]
     },
     "metadata": {
      "needs_background": "light"
     },
     "output_type": "display_data"
    }
   ],
   "source": [
    "global_sales_by_genre.plot(kind=\"bar\")\n",
    "plt.xlabel(\"Genre\")\n",
    "plt.ylabel(\"Sales (millon)\")\n",
    "plt.title(\"Global sales by genre\")\n",
    "plt.show()"
   ]
  },
  {
   "cell_type": "markdown",
   "id": "1607cd93",
   "metadata": {},
   "source": [
    "As you can see, Action game has the highest revenue - to the tune of $1750m. The next is sports game \n",
    "and Shooter game respectively. "
   ]
  },
  {
   "cell_type": "markdown",
   "id": "f3dc362a",
   "metadata": {},
   "source": [
    "## IV. Analysing global sales by continents"
   ]
  },
  {
   "cell_type": "markdown",
   "id": "a59b728d",
   "metadata": {},
   "source": [
    "Creat dataframe from 4 continents"
   ]
  },
  {
   "cell_type": "code",
   "execution_count": 11,
   "id": "a1a44faf",
   "metadata": {},
   "outputs": [
    {
     "name": "stdout",
     "output_type": "stream",
     "text": [
      "   NA_Sales  EU_Sales  JP_Sales  Other_Sales\n",
      "0     41.49     29.02      3.77         8.46\n",
      "1     29.08      3.58      6.81         0.77\n",
      "2     15.85     12.88      3.79         3.31\n",
      "3     15.75     11.01      3.28         2.96\n",
      "4     11.27      8.89     10.22         1.00\n"
     ]
    }
   ],
   "source": [
    "game_revenue_by_continents = game_revenue[[\"NA_Sales\",\"EU_Sales\",\"JP_Sales\",\"Other_Sales\"]]\n",
    "print(game_revenue_by_continents.head())"
   ]
  },
  {
   "cell_type": "markdown",
   "id": "172610e2",
   "metadata": {},
   "source": [
    "Revenue by continents"
   ]
  },
  {
   "cell_type": "code",
   "execution_count": 12,
   "id": "e76fdc57",
   "metadata": {},
   "outputs": [
    {
     "name": "stdout",
     "output_type": "stream",
     "text": [
      "NA_Sales       4327.65\n",
      "EU_Sales       2406.69\n",
      "JP_Sales       1284.27\n",
      "Other_Sales     788.91\n",
      "dtype: float64\n"
     ]
    }
   ],
   "source": [
    "total_sales_by_continents = game_revenue_by_continents.sum(axis = 0)\n",
    "print(total_sales_by_continents)"
   ]
  },
  {
   "cell_type": "code",
   "execution_count": 13,
   "id": "bbf87f68",
   "metadata": {},
   "outputs": [
    {
     "data": {
      "image/png": "[encoded data removed]",
      "text/plain": [
       "<Figure size 432x288 with 1 Axes>"
      ]
     },
     "metadata": {
      "needs_background": "light"
     },
     "output_type": "display_data"
    }
   ],
   "source": [
    "total_sales_by_continents.plot(kind = \"barh\")\n",
    "plt.xlabel(\"Sales (millon)\")\n",
    "plt.ylabel(\"Continents\")\n",
    "plt.title(\"Global sales by continents\")\n",
    "plt.show()"
   ]
  },
  {
   "cell_type": "markdown",
   "id": "944930e0",
   "metadata": {},
   "source": [
    "So I should focus on NA market with peak sales of $4,000m. Let see what type of games should I sell here \n",
    "(From Global sales by genre chart, it could be action games, I guess :3) "
   ]
  },
  {
   "cell_type": "markdown",
   "id": "9b0d4c22",
   "metadata": {},
   "source": [
    "## V. Analysing NA sales by genre, platform"
   ]
  },
  {
   "cell_type": "code",
   "execution_count": 9,
   "id": "6371ca67",
   "metadata": {},
   "outputs": [
    {
     "name": "stdout",
     "output_type": "stream",
     "text": [
      "Genre\n",
      "Action          861.77\n",
      "Adventure       101.93\n",
      "Fighting        220.74\n",
      "Misc            396.92\n",
      "Platform        445.99\n",
      "Puzzle          122.01\n",
      "Racing          356.93\n",
      "Role-Playing    326.50\n",
      "Shooter         575.16\n",
      "Simulation      181.78\n",
      "Sports          670.09\n",
      "Strategy         67.83\n",
      "Name: NA_Sales, dtype: float64\n"
     ]
    }
   ],
   "source": [
    "NA_sales_by_genre = game_revenue.groupby(\"Genre\")[\"NA_Sales\"].agg(sum)\n",
    "print(NA_sales_by_genre)"
   ]
  },
  {
   "cell_type": "code",
   "execution_count": 10,
   "id": "18f72040",
   "metadata": {},
   "outputs": [
    {
     "data": {
      "image/png": "[encoded data removed]",
      "text/plain": [
       "<Figure size 432x288 with 1 Axes>"
      ]
     },
     "metadata": {
      "needs_background": "light"
     },
     "output_type": "display_data"
    }
   ],
   "source": [
    "NA_sales_by_genre.plot(kind = \"barh\")\n",
    "plt.xlabel(\"Sales (millon)\")\n",
    "plt.ylabel(\"Genre\")\n",
    "plt.title(\"NA sales by Genre\")\n",
    "plt.show()"
   ]
  },
  {
   "cell_type": "markdown",
   "id": "c0b562f5",
   "metadata": {},
   "source": [
    "From the analysis, I should sell Action game in the US. Now let's find out "
   ]
  },
  {
   "cell_type": "code",
   "execution_count": 11,
   "id": "bc2f58a9",
   "metadata": {},
   "outputs": [
    {
     "name": "stdout",
     "output_type": "stream",
     "text": [
      "              Genre  NA_Sales   Publisher Platform\n",
      "0            Sports     41.49    Nintendo      Wii\n",
      "1          Platform     29.08    Nintendo      NES\n",
      "2            Racing     15.85    Nintendo      Wii\n",
      "3            Sports     15.75    Nintendo      Wii\n",
      "4      Role-Playing     11.27    Nintendo       GB\n",
      "...             ...       ...         ...      ...\n",
      "16593      Platform      0.01       Kemco      GBA\n",
      "16594       Shooter      0.01  Infogrames       GC\n",
      "16595        Racing      0.00  Activision      PS2\n",
      "16596        Puzzle      0.00    7G//AMES       DS\n",
      "16597      Platform      0.01     Wanadoo      GBA\n",
      "\n",
      "[16291 rows x 4 columns]\n"
     ]
    }
   ],
   "source": [
    "NA_Sales_df = game_revenue[[\"Genre\",\"NA_Sales\",\"Publisher\",\"Platform\"]]\n",
    "print(NA_Sales_df)"
   ]
  },
  {
   "cell_type": "code",
   "execution_count": 12,
   "id": "17d388e5",
   "metadata": {},
   "outputs": [
    {
     "name": "stdout",
     "output_type": "stream",
     "text": [
      "        Genre  NA_Sales                  Publisher Platform\n",
      "16     Action      7.01       Take-Two Interactive      PS3\n",
      "17     Action      9.43       Take-Two Interactive      PS2\n",
      "23     Action      9.63       Take-Two Interactive     X360\n",
      "24     Action      8.41       Take-Two Interactive      PS2\n",
      "38     Action      6.99       Take-Two Interactive      PS2\n",
      "...       ...       ...                        ...      ...\n",
      "16564  Action      0.01  Destination Software, Inc       DS\n",
      "16567  Action      0.00         Namco Bandai Games      3DS\n",
      "16582  Action      0.01                      Titus      GBA\n",
      "16583  Action      0.01         Virgin Interactive      N64\n",
      "16589  Action      0.00            dramatic create      PSV\n",
      "\n",
      "[3251 rows x 4 columns]\n"
     ]
    }
   ],
   "source": [
    "NA_Sales_df_sorted_by_Genre_Action= NA_Sales_df[NA_Sales_df[\"Genre\"] == \"Action\"]\n",
    "print(NA_Sales_df_sorted_by_Genre_Action)"
   ]
  },
  {
   "cell_type": "code",
   "execution_count": 13,
   "id": "20b2a8bc",
   "metadata": {},
   "outputs": [
    {
     "data": {
      "image/png": "[encoded data removed]",
      "text/plain": [
       "<Figure size 432x288 with 1 Axes>"
      ]
     },
     "metadata": {
      "needs_background": "light"
     },
     "output_type": "display_data"
    }
   ],
   "source": [
    "NA_Sales_df_sorted_by_platform = NA_Sales_df_sorted_by_Genre_Action.groupby(\"Platform\")[\"NA_Sales\"].agg(sum)\n",
    "NA_Sales_df_sorted_by_platform.plot(kind = \"barh\")\n",
    "plt.xlabel(\"Sales (millon)\")\n",
    "plt.ylabel(\"Platform\")\n",
    "plt.title(\"NA sales by Platform\")\n",
    "plt.show()"
   ]
  },
  {
   "cell_type": "markdown",
   "id": "2ca367c2",
   "metadata": {},
   "source": [
    "From the chart, I should sell action game on XB, PS2 and PS3 platform to earn maximize profit. (A)"
   ]
  },
  {
   "cell_type": "code",
   "execution_count": 14,
   "id": "f18f4aef",
   "metadata": {},
   "outputs": [
    {
     "name": "stdout",
     "output_type": "stream",
     "text": [
      "        Genre  NA_Sales             Publisher Platform\n",
      "0      Sports     41.49              Nintendo      Wii\n",
      "3      Sports     15.75              Nintendo      Wii\n",
      "13     Sports      8.94              Nintendo      Wii\n",
      "14     Sports      9.09              Nintendo      Wii\n",
      "77     Sports      1.11       Electronic Arts      PS4\n",
      "...       ...       ...                   ...      ...\n",
      "16576  Sports      0.00  Alternative Software     XOne\n",
      "16578  Sports      0.01               Mastiff      3DS\n",
      "16579  Sports      0.01            Infogrames      N64\n",
      "16581  Sports      0.00               Unknown      Wii\n",
      "16587  Sports      0.00           Hudson Soft       DS\n",
      "\n",
      "[2304 rows x 4 columns]\n"
     ]
    }
   ],
   "source": [
    "NA_Sales_df_sorted_by_Genre_Sports= NA_Sales_df[NA_Sales_df[\"Genre\"] == \"Sports\"]\n",
    "print(NA_Sales_df_sorted_by_Genre_Sports)"
   ]
  },
  {
   "cell_type": "code",
   "execution_count": 15,
   "id": "85474c3a",
   "metadata": {},
   "outputs": [
    {
     "data": {
      "image/png": "[encoded data removed]",
      "text/plain": [
       "<Figure size 432x288 with 1 Axes>"
      ]
     },
     "metadata": {
      "needs_background": "light"
     },
     "output_type": "display_data"
    }
   ],
   "source": [
    "NA_Sales_df_sorted_by_Platform2 = NA_Sales_df_sorted_by_Genre_Sports.groupby(\"Platform\")[\"NA_Sales\"].agg(sum)\n",
    "NA_Sales_df_sorted_by_Platform2.plot(kind = \"barh\")\n",
    "plt.xlabel(\"Sales (millon)\")\n",
    "plt.ylabel(\"Platform\")\n",
    "plt.show()"
   ]
  },
  {
   "cell_type": "markdown",
   "id": "bda9f405",
   "metadata": {},
   "source": [
    "From the chart, I should sell sports game on WiiU, X360, PS2 and PS3 platform to earn maximize profit. (B)"
   ]
  },
  {
   "cell_type": "markdown",
   "id": "35769006",
   "metadata": {},
   "source": [
    "## VI. Conclusion"
   ]
  },
  {
   "cell_type": "markdown",
   "id": "171761c0",
   "metadata": {},
   "source": [
    "Finally, From (A) and (B) I thought I found the answer. I should sell action games and sport games in the US on WiiU, X360, XB, PS2 and PS3 platform."
   ]
  },
  {
   "cell_type": "code",
   "execution_count": null,
   "id": "1e2c2183",
   "metadata": {},
   "outputs": [],
   "source": []
  }
 ],
 "metadata": {
  "kernelspec": {
   "display_name": "Python 3",
   "language": "python",
   "name": "python3"
  },
  "language_info": {
   "codemirror_mode": {
    "name": "ipython",
    "version": 3
   },
   "file_extension": ".py",
   "mimetype": "text/x-python",
   "name": "python",
   "nbconvert_exporter": "python",
   "pygments_lexer": "ipython3",
   "version": "3.8.8"
  }
 },
 "nbformat": 4,
 "nbformat_minor": 5
}
